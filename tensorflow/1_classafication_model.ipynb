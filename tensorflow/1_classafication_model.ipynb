{
  "nbformat": 4,
  "nbformat_minor": 0,
  "metadata": {
    "colab": {
      "name": "1_classafication_model.ipynb",
      "provenance": [],
      "authorship_tag": "ABX9TyOf5QV0Y/Uk8v30r2qJorR7",
      "include_colab_link": true
    },
    "kernelspec": {
      "name": "python3",
      "display_name": "Python 3"
    }
  },
  "cells": [
    {
      "cell_type": "markdown",
      "metadata": {
        "id": "view-in-github",
        "colab_type": "text"
      },
      "source": [
        "<a href=\"https://colab.research.google.com/github/nanfeng/note/blob/master/tensorflow/1_classafication_model.ipynb\" target=\"_parent\"><img src=\"https://colab.research.google.com/assets/colab-badge.svg\" alt=\"Open In Colab\"/></a>"
      ]
    },
    {
      "cell_type": "code",
      "metadata": {
        "id": "XhGGHQRl37B8",
        "colab_type": "code",
        "outputId": "df5deadc-b105-43f5-b11d-94e742966092",
        "colab": {
          "base_uri": "https://localhost:8080/",
          "height": 34
        }
      },
      "source": [
        "import tensorflow as tf\n",
        "tf.__version__"
      ],
      "execution_count": 1,
      "outputs": [
        {
          "output_type": "execute_result",
          "data": {
            "text/plain": [
              "'2.2.0-rc1'"
            ]
          },
          "metadata": {
            "tags": []
          },
          "execution_count": 1
        }
      ]
    },
    {
      "cell_type": "code",
      "metadata": {
        "id": "ROF3QZarrvB6",
        "colab_type": "code",
        "colab": {
          "base_uri": "https://localhost:8080/",
          "height": 153
        },
        "outputId": "cc5be12d-bf2b-4491-e981-2030646d8f62"
      },
      "source": [
        "import matplotlib as mpl\n",
        "import matplotlib.pyplot as plt\n",
        "%matplotlib inline\n",
        "import numpy as np\n",
        "import sklearn\n",
        "import pandas as pd\n",
        "import os\n",
        "import sys\n",
        "import time\n",
        "import tensorflow as tf\n",
        "\n",
        "from tensorflow import keras\n",
        "\n",
        "print(tf.__version__)\n",
        "print(sys.version_info)\n",
        "\n",
        "for module in mpl, np, pd, sklearn, tf, keras:\n",
        "    print(module.__name__, module.__version__)\n"
      ],
      "execution_count": 2,
      "outputs": [
        {
          "output_type": "stream",
          "text": [
            "2.2.0-rc1\n",
            "sys.version_info(major=3, minor=6, micro=9, releaselevel='final', serial=0)\n",
            "matplotlib 3.2.1\n",
            "numpy 1.18.2\n",
            "pandas 0.25.3\n",
            "sklearn 0.22.2.post1\n",
            "tensorflow 2.2.0-rc1\n",
            "tensorflow.python.keras.api._v2.keras 2.2.4-tf\n"
          ],
          "name": "stdout"
        }
      ]
    },
    {
      "cell_type": "code",
      "metadata": {
        "id": "dU6Eivunryp-",
        "colab_type": "code",
        "colab": {
          "base_uri": "https://localhost:8080/",
          "height": 204
        },
        "outputId": "dc8b6cb3-3b33-4448-a241-92f9bb764ec7"
      },
      "source": [
        "\n",
        "fashion_mnist = keras.datasets.fashion_mnist\n",
        "(x_train_all, y_train_all), (x_test, y_test) = fashion_mnist.load_data()\n",
        "\n",
        "x_train_all = tf.convert_to_tensor(x_train_all, dtype=tf.float32) / 255.\n",
        "x_test = tf.convert_to_tensor(x_test, dtype=tf.float32) / 255.\n",
        "\n",
        "x_valid, x_train = x_train_all[:5000], x_train_all[5000:]\n",
        "y_valid, y_train = y_train_all[:5000], y_train_all[5000:]\n",
        "\n",
        "\n",
        "print(x_valid.shape, y_valid.shape)\n",
        "print(x_train.shape, y_train.shape)\n",
        "print(x_test.shape, y_test.shape)\n"
      ],
      "execution_count": 3,
      "outputs": [
        {
          "output_type": "stream",
          "text": [
            "Downloading data from https://storage.googleapis.com/tensorflow/tf-keras-datasets/train-labels-idx1-ubyte.gz\n",
            "32768/29515 [=================================] - 0s 0us/step\n",
            "Downloading data from https://storage.googleapis.com/tensorflow/tf-keras-datasets/train-images-idx3-ubyte.gz\n",
            "26427392/26421880 [==============================] - 0s 0us/step\n",
            "Downloading data from https://storage.googleapis.com/tensorflow/tf-keras-datasets/t10k-labels-idx1-ubyte.gz\n",
            "8192/5148 [===============================================] - 0s 0us/step\n",
            "Downloading data from https://storage.googleapis.com/tensorflow/tf-keras-datasets/t10k-images-idx3-ubyte.gz\n",
            "4423680/4422102 [==============================] - 0s 0us/step\n",
            "(5000, 28, 28) (5000,)\n",
            "(55000, 28, 28) (55000,)\n",
            "(10000, 28, 28) (10000,)\n"
          ],
          "name": "stdout"
        }
      ]
    },
    {
      "cell_type": "code",
      "metadata": {
        "id": "8DVkWPTMrzKm",
        "colab_type": "code",
        "colab": {
          "base_uri": "https://localhost:8080/",
          "height": 546
        },
        "outputId": "22767da4-682e-4715-ffc6-b7f5d0963138"
      },
      "source": [
        "\n",
        "def show_single_image(img_arr):\n",
        "    plt.imshow(img_arr, cmap=\"binary\")\n",
        "    plt.show()\n",
        "\n",
        "show_single_image(x_train[0])\n",
        "\n",
        "def show_ims(n_rows, n_cols, x_data, y_data, class_names):\n",
        "    assert len(x_data) == len(y_data)\n",
        "    assert n_cols * n_rows < len(x_data)\n",
        "    plt.figure(figsize=(n_cols * 1.4, n_rows * 1.6))\n",
        "    for row in range(n_rows):\n",
        "        for col in range(n_cols):\n",
        "            index = n_cols * row + col\n",
        "            plt.subplot(n_rows, n_cols, index+1)\n",
        "            plt.imshow(x_data[index], cmap=\"binary\",\n",
        "                       interpolation=\"nearest\")\n",
        "            plt.axis(\"off\")\n",
        "            plt.title(class_names[y_data[index]])\n",
        "    plt.show()\n",
        "\n",
        "class_names = ['T-shirt', 'Trouser', 'Pullover', 'Dress',\n",
        "               'Coat', 'Sandal', 'Shirt', 'Sneaker',\n",
        "               'Bag', 'Ankle_boot']\n",
        "show_ims(3, 5, x_train, y_train, class_names)\n"
      ],
      "execution_count": 4,
      "outputs": [
        {
          "output_type": "display_data",
          "data": {
            "image/png": "[encoded data removed]",
            "text/plain": [
              "<Figure size 432x288 with 1 Axes>"
            ]
          },
          "metadata": {
            "tags": []
          }
        },
        {
          "output_type": "display_data",
          "data": {
            "image/png": "[encoded data removed]",
            "text/plain": [
              "<Figure size 504x345.6 with 15 Axes>"
            ]
          },
          "metadata": {
            "tags": []
          }
        }
      ]
    },
    {
      "cell_type": "code",
      "metadata": {
        "id": "xIDh2_FArzyv",
        "colab_type": "code",
        "colab": {
          "base_uri": "https://localhost:8080/",
          "height": 85
        },
        "outputId": "1d404495-0b98-49eb-adf9-115127580f32"
      },
      "source": [
        "\n",
        "model = keras.models.Sequential()\n",
        "model.add(keras.layers.Flatten(input_shape=[28, 28]))\n",
        "model.add(keras.layers.Dense(300, activation=\"relu\"))\n",
        "model.add(keras.layers.Dense(100, activation=\"relu\"))\n",
        "model.add(keras.layers.Dense(10, activation=\"softmax\"))\n",
        "\n",
        "# relu: y = max(0, x)\n",
        "#softmax: 将向量变成概率分布 x = [x1, x2, x3]\n",
        "#         y = [e^x1/sum, e^x2/sum, e^x3/sum] sum = e^x1 + e^x2 + e^x3\n",
        "\n",
        "#reason for sparse: y->index y->one_hot->[]\n",
        "model.compile(loss=\"sparse_categorical_crossentropy\",\n",
        "              optimizer=\"sgd\",\n",
        "              metrics=[\"accuracy\"])\n",
        "model.layers\n"
      ],
      "execution_count": 5,
      "outputs": [
        {
          "output_type": "execute_result",
          "data": {
            "text/plain": [
              "[<tensorflow.python.keras.layers.core.Flatten at 0x7fef8705d5f8>,\n",
              " <tensorflow.python.keras.layers.core.Dense at 0x7fef87076390>,\n",
              " <tensorflow.python.keras.layers.core.Dense at 0x7fef870532e8>,\n",
              " <tensorflow.python.keras.layers.core.Dense at 0x7fef87053198>]"
            ]
          },
          "metadata": {
            "tags": []
          },
          "execution_count": 5
        }
      ]
    },
    {
      "cell_type": "code",
      "metadata": {
        "id": "1pjogM71sEK1",
        "colab_type": "code",
        "colab": {
          "base_uri": "https://localhost:8080/",
          "height": 289
        },
        "outputId": "a4cd7c21-694d-41d5-ec39-a0c89a460f16"
      },
      "source": [
        "model.summary()\n"
      ],
      "execution_count": 6,
      "outputs": [
        {
          "output_type": "stream",
          "text": [
            "Model: \"sequential\"\n",
            "_________________________________________________________________\n",
            "Layer (type)                 Output Shape              Param #   \n",
            "=================================================================\n",
            "flatten (Flatten)            (None, 784)               0         \n",
            "_________________________________________________________________\n",
            "dense (Dense)                (None, 300)               235500    \n",
            "_________________________________________________________________\n",
            "dense_1 (Dense)              (None, 100)               30100     \n",
            "_________________________________________________________________\n",
            "dense_2 (Dense)              (None, 10)                1010      \n",
            "=================================================================\n",
            "Total params: 266,610\n",
            "Trainable params: 266,610\n",
            "Non-trainable params: 0\n",
            "_________________________________________________________________\n"
          ],
          "name": "stdout"
        }
      ]
    },
    {
      "cell_type": "code",
      "metadata": {
        "id": "2wVLQVOrsEyD",
        "colab_type": "code",
        "colab": {
          "base_uri": "https://localhost:8080/",
          "height": 374
        },
        "outputId": "62ad7db2-d321-404d-d047-b6f23209f747"
      },
      "source": [
        "\n",
        "history = model.fit(x_train, y_train, epochs=10, validation_data=(x_valid, y_valid))\n",
        "type(history)\n"
      ],
      "execution_count": 7,
      "outputs": [
        {
          "output_type": "stream",
          "text": [
            "Epoch 1/10\n",
            "1719/1719 [==============================] - 5s 3ms/step - loss: 0.7371 - accuracy: 0.7605 - val_loss: 0.5225 - val_accuracy: 0.8244\n",
            "Epoch 2/10\n",
            "1719/1719 [==============================] - 5s 3ms/step - loss: 0.4959 - accuracy: 0.8269 - val_loss: 0.4554 - val_accuracy: 0.8446\n",
            "Epoch 3/10\n",
            "1719/1719 [==============================] - 5s 3ms/step - loss: 0.4482 - accuracy: 0.8427 - val_loss: 0.4369 - val_accuracy: 0.8516\n",
            "Epoch 4/10\n",
            "1719/1719 [==============================] - 5s 3ms/step - loss: 0.4220 - accuracy: 0.8525 - val_loss: 0.4089 - val_accuracy: 0.8504\n",
            "Epoch 5/10\n",
            "1719/1719 [==============================] - 5s 3ms/step - loss: 0.4012 - accuracy: 0.8591 - val_loss: 0.3846 - val_accuracy: 0.8702\n",
            "Epoch 6/10\n",
            "1719/1719 [==============================] - 5s 3ms/step - loss: 0.3857 - accuracy: 0.8642 - val_loss: 0.3981 - val_accuracy: 0.8630\n",
            "Epoch 7/10\n",
            "1719/1719 [==============================] - 5s 3ms/step - loss: 0.3711 - accuracy: 0.8709 - val_loss: 0.3658 - val_accuracy: 0.8714\n",
            "Epoch 8/10\n",
            "1719/1719 [==============================] - 5s 3ms/step - loss: 0.3588 - accuracy: 0.8731 - val_loss: 0.3535 - val_accuracy: 0.8752\n",
            "Epoch 9/10\n",
            "1719/1719 [==============================] - 5s 3ms/step - loss: 0.3486 - accuracy: 0.8767 - val_loss: 0.3490 - val_accuracy: 0.8770\n",
            "Epoch 10/10\n",
            "1719/1719 [==============================] - 5s 3ms/step - loss: 0.3389 - accuracy: 0.8794 - val_loss: 0.3423 - val_accuracy: 0.8808\n"
          ],
          "name": "stdout"
        },
        {
          "output_type": "execute_result",
          "data": {
            "text/plain": [
              "tensorflow.python.keras.callbacks.History"
            ]
          },
          "metadata": {
            "tags": []
          },
          "execution_count": 7
        }
      ]
    },
    {
      "cell_type": "code",
      "metadata": {
        "id": "90LXmnf6sMB7",
        "colab_type": "code",
        "colab": {
          "base_uri": "https://localhost:8080/",
          "height": 697
        },
        "outputId": "fdf22770-8cb7-46f7-a6d5-bde0ed8b14a8"
      },
      "source": [
        "history.history\n"
      ],
      "execution_count": 8,
      "outputs": [
        {
          "output_type": "execute_result",
          "data": {
            "text/plain": [
              "{'accuracy': [0.7605090737342834,\n",
              "  0.826909065246582,\n",
              "  0.8427454829216003,\n",
              "  0.8525272607803345,\n",
              "  0.8591272830963135,\n",
              "  0.8642363548278809,\n",
              "  0.8708545565605164,\n",
              "  0.873054563999176,\n",
              "  0.8766909241676331,\n",
              "  0.8793818354606628],\n",
              " 'loss': [0.7370519042015076,\n",
              "  0.49590158462524414,\n",
              "  0.44819214940071106,\n",
              "  0.4219750165939331,\n",
              "  0.40122395753860474,\n",
              "  0.3856954276561737,\n",
              "  0.37106427550315857,\n",
              "  0.35875236988067627,\n",
              "  0.348598837852478,\n",
              "  0.33888134360313416],\n",
              " 'val_accuracy': [0.824400007724762,\n",
              "  0.8446000218391418,\n",
              "  0.8515999913215637,\n",
              "  0.8503999710083008,\n",
              "  0.870199978351593,\n",
              "  0.8629999756813049,\n",
              "  0.871399998664856,\n",
              "  0.8751999735832214,\n",
              "  0.8769999742507935,\n",
              "  0.8808000087738037],\n",
              " 'val_loss': [0.5225352644920349,\n",
              "  0.4554418921470642,\n",
              "  0.4368671476840973,\n",
              "  0.4088708162307739,\n",
              "  0.38455402851104736,\n",
              "  0.39811035990715027,\n",
              "  0.3657548129558563,\n",
              "  0.35352206230163574,\n",
              "  0.3489648699760437,\n",
              "  0.342313289642334]}"
            ]
          },
          "metadata": {
            "tags": []
          },
          "execution_count": 8
        }
      ]
    },
    {
      "cell_type": "code",
      "metadata": {
        "id": "uqXjLYVhsPUe",
        "colab_type": "code",
        "colab": {
          "base_uri": "https://localhost:8080/",
          "height": 324
        },
        "outputId": "a1408050-fe2d-4329-df9d-9bec7106b07c"
      },
      "source": [
        "\n",
        "def plt_learning_curves(history):\n",
        "    pd.DataFrame(history.history).plot(figsize=[8, 5])\n",
        "    plt.grid(True)\n",
        "    plt.gca().set_ylim(0, 1)\n",
        "    plt.show()\n",
        "\n",
        "plt_learning_curves(history)"
      ],
      "execution_count": 9,
      "outputs": [
        {
          "output_type": "display_data",
          "data": {
            "image/png": "[encoded data removed]",
            "text/plain": [
              "<Figure size 576x360 with 1 Axes>"
            ]
          },
          "metadata": {
            "tags": []
          }
        }
      ]
    }
  ]
}